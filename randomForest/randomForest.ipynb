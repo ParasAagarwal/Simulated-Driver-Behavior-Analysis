{
 "cells": [
  {
   "cell_type": "code",
   "execution_count": 4,
   "metadata": {},
   "outputs": [],
   "source": [
    "import pandas as pd\n",
    "from sklearn.model_selection import train_test_split\n",
    "from sklearn.ensemble import RandomForestClassifier\n",
    "from sklearn.metrics import accuracy_score"
   ]
  },
  {
   "cell_type": "code",
   "execution_count": 5,
   "metadata": {},
   "outputs": [],
   "source": [
    "# data = pd.read_csv('https://drive.google.com/file/d/1cctWeqIBFhFpPxGGoDvu_rfwtVhQsXyr/view?usp=sharing') #Generated Dataset\n",
    "# data = pd.read_csv('https://raw.githubusercontent.com/Ani-RudE/urop/main/RandomForest/sensor_raw.csv') #Original Dataset\n",
    "data = pd.read_csv('sensor_raw2.csv') #Cleaning Dataset\n",
    "window_size = 14"
   ]
  },
  {
   "cell_type": "code",
   "execution_count": 6,
   "metadata": {},
   "outputs": [],
   "source": [
    "# def extract_features(data):\n",
    "#     features = []\n",
    "#     labels = []\n",
    "#     driver_ratings = {}\n",
    "#     for driver_id, driver_data in data.groupby('DriverID'):\n",
    "#         X = []\n",
    "#         y = []\n",
    "#         for _, task_data in driver_data.groupby('Class'):\n",
    "#             for i in range(0, len(task_data) - window_size):\n",
    "#                 window = task_data.iloc[i:i + window_size]\n",
    "#                 feature_vector = []\n",
    "#                 feature_vector.append(window['AccX'].mean())\n",
    "#                 feature_vector.append(window['AccY'].mean())\n",
    "#                 feature_vector.append(window['AccZ'].mean())\n",
    "#                 feature_vector.append(window['GyroX'].mean())\n",
    "#                 feature_vector.append(window['GyroY'].mean())\n",
    "#                 feature_vector.append(window['GyroZ'].mean())\n",
    "#                 X.append(feature_vector)\n",
    "#                 y.append(window['Class'].values[0])\n",
    "#         X_train, X_test, y_train, y_test = train_test_split(X, y, test_size=0.2, random_state=42)\n",
    "#         model = RandomForestClassifier()\n",
    "#         model.fit(X_train, y_train)\n",
    "#         y_pred = model.predict(X_test)\n",
    "#         accuracy = accuracy_score(y_test, y_pred)\n",
    "#         print(accuracy)\n",
    "#         driver_ratings[driver_id] = accuracy\n",
    "#     return driver_ratings\n",
    "\n",
    "# driver_ratings = extract_features(data)\n",
    "\n",
    "# for driver_id, accuracy in driver_ratings.items():\n",
    "#     if accuracy > 0.9:\n",
    "#         driver_rating = \"Excellent\"\n",
    "#     elif accuracy > 0.8:\n",
    "#         driver_rating = \"Good\"\n",
    "#     elif accuracy > 0.7:\n",
    "#         driver_rating = \"Average\"\n",
    "#     else:\n",
    "#         driver_rating = \"Poor\"\n",
    "\n",
    "#     print(f\"{driver_id} Rating: {driver_rating}\")"
   ]
  },
  {
   "cell_type": "code",
   "execution_count": 7,
   "metadata": {},
   "outputs": [
    {
     "name": "stdout",
     "output_type": "stream",
     "text": [
      "Accuracy for Driver-1: 1.0\n",
      "Accuracy for Driver-2: 0.9838709677419355\n",
      "Accuracy for Driver-3: 0.8787878787878788\n",
      "\n",
      "Overall Model Accuracy: 0.9528795811518325\n",
      "Driver-1 Rating: Excellent\n",
      "Driver-2 Rating: Excellent\n",
      "Driver-3 Rating: Good\n"
     ]
    }
   ],
   "source": [
    "def extract_features(data):\n",
    "    features = []\n",
    "    labels = []\n",
    "    driver_ratings = {}\n",
    "    total_y_test = []  # To store y_test for all drivers\n",
    "    total_y_pred = []  # To store y_pred for all drivers\n",
    "\n",
    "    for driver_id, driver_data in data.groupby('DriverID'):\n",
    "        X = []\n",
    "        y = []\n",
    "        for _, task_data in driver_data.groupby('Class'):\n",
    "            for i in range(0, len(task_data) - window_size):\n",
    "                window = task_data.iloc[i:i + window_size]\n",
    "                feature_vector = [window['AccX'].mean(),\n",
    "                                  window['AccY'].mean(),\n",
    "                                  window['AccZ'].mean(),\n",
    "                                  window['GyroX'].mean(),\n",
    "                                  window['GyroY'].mean(),\n",
    "                                  window['GyroZ'].mean()]\n",
    "                X.append(feature_vector)\n",
    "                y.append(window['Class'].values[0])\n",
    "\n",
    "        X_train, X_test, y_train, y_test = train_test_split(X, y, test_size=0.2, random_state=42)\n",
    "        model = RandomForestClassifier()\n",
    "        model.fit(X_train, y_train)\n",
    "        y_pred = model.predict(X_test)\n",
    "\n",
    "        # Append y_test and y_pred for the current driver to the total lists\n",
    "        total_y_test.extend(y_test)\n",
    "        total_y_pred.extend(y_pred)\n",
    "\n",
    "        accuracy = accuracy_score(y_test, y_pred)\n",
    "        print(f\"Accuracy for {driver_id}: {accuracy}\")\n",
    "        driver_ratings[driver_id] = accuracy\n",
    "\n",
    "    # Calculate and print overall accuracy\n",
    "    overall_accuracy = accuracy_score(total_y_test, total_y_pred)\n",
    "    print(f\"\\nOverall Model Accuracy: {overall_accuracy}\")\n",
    "\n",
    "    return driver_ratings\n",
    "\n",
    "driver_ratings = extract_features(data)\n",
    "\n",
    "for driver_id, accuracy in driver_ratings.items():\n",
    "    if accuracy > 0.9:\n",
    "        driver_rating = \"Excellent\"\n",
    "    elif accuracy > 0.8:\n",
    "        driver_rating = \"Good\"\n",
    "    elif accuracy > 0.7:\n",
    "        driver_rating = \"Average\"\n",
    "    else:\n",
    "        driver_rating = \"Poor\"\n",
    "\n",
    "    print(f\"{driver_id} Rating: {driver_rating}\")"
   ]
  }
 ],
 "metadata": {
  "kernelspec": {
   "display_name": "Python 3",
   "language": "python",
   "name": "python3"
  },
  "language_info": {
   "codemirror_mode": {
    "name": "ipython",
    "version": 3
   },
   "file_extension": ".py",
   "mimetype": "text/x-python",
   "name": "python",
   "nbconvert_exporter": "python",
   "pygments_lexer": "ipython3",
   "version": "3.11.1"
  }
 },
 "nbformat": 4,
 "nbformat_minor": 2
}
