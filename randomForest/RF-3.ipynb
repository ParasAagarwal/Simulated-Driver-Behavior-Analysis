{
 "cells": [
  {
   "cell_type": "code",
   "execution_count": 2,
   "metadata": {},
   "outputs": [],
   "source": [
    "import pandas as pd\n",
    "from sklearn.model_selection import train_test_split\n",
    "from sklearn.ensemble import RandomForestClassifier\n",
    "from sklearn.metrics import accuracy_score\n"
   ]
  },
  {
   "cell_type": "code",
   "execution_count": 3,
   "metadata": {},
   "outputs": [],
   "source": [
    "data = pd.read_csv('sensor_raw2.csv') #Cleaning Dataset\n",
    "window_size = 14"
   ]
  },
  {
   "cell_type": "code",
   "execution_count": 4,
   "metadata": {},
   "outputs": [
    {
     "name": "stdout",
     "output_type": "stream",
     "text": [
      "\n",
      "Model Accuracy: 0.9622641509433962\n",
      "\n",
      "Class Counts at the End of the Journey:\n",
      "Class 1: 265 times\n",
      "Class 2: 279 times\n",
      "Class 3: 336 times\n",
      "Class 4: 220 times\n"
     ]
    }
   ],
   "source": [
    "def train_and_predict(data):\n",
    "    X = []\n",
    "    y = []\n",
    "\n",
    "    for _, task_data in data.groupby('Class'):\n",
    "        for i in range(0, len(task_data) - window_size):\n",
    "            window = task_data.iloc[i:i + window_size]\n",
    "            feature_vector = [window['AccX'].mean(),\n",
    "                              window['AccY'].mean(),\n",
    "                              window['AccZ'].mean(),\n",
    "                              window['GyroX'].mean(),\n",
    "                              window['GyroY'].mean(),\n",
    "                              window['GyroZ'].mean()]\n",
    "            X.append(feature_vector)\n",
    "            y.append(window['Class'].values[0])\n",
    "\n",
    "    X_train, X_test, y_train, y_test = train_test_split(X, y, test_size=0.2, random_state=42)\n",
    "    model = RandomForestClassifier()\n",
    "    model.fit(X_train, y_train)\n",
    "    y_pred = model.predict(X_test)\n",
    "\n",
    "    accuracy = accuracy_score(y_test, y_pred)\n",
    "    print(f\"\\nModel Accuracy: {accuracy}\")\n",
    "\n",
    "    return model\n",
    "\n",
    "def predict_classes(model, data):\n",
    "    class_counts = {1: 0, 2: 0, 3: 0, 4: 0}\n",
    "\n",
    "    for i in range(0, len(data) - window_size):\n",
    "        window = data.iloc[i:i + window_size]\n",
    "        feature_vector = [window['AccX'].mean(),\n",
    "                          window['AccY'].mean(),\n",
    "                          window['AccZ'].mean(),\n",
    "                          window['GyroX'].mean(),\n",
    "                          window['GyroY'].mean(),\n",
    "                          window['GyroZ'].mean()]\n",
    "        predicted_class = int(model.predict([feature_vector])[0])\n",
    "        class_counts[predicted_class] += 1\n",
    "\n",
    "    print(\"\\nClass Counts at the End of the Journey:\")\n",
    "    for class_label, count in class_counts.items():\n",
    "        print(f\"Class {class_label}: {count} times\")\n",
    "\n",
    "# Train the model on all drivers combined\n",
    "trained_model = train_and_predict(data)\n",
    "\n",
    "# Predict classes at the end of the journey\n",
    "predict_classes(trained_model, data)"
   ]
  },
  {
   "cell_type": "code",
   "execution_count": null,
   "metadata": {},
   "outputs": [],
   "source": []
  }
 ],
 "metadata": {
  "kernelspec": {
   "display_name": "Python 3",
   "language": "python",
   "name": "python3"
  },
  "language_info": {
   "codemirror_mode": {
    "name": "ipython",
    "version": 3
   },
   "file_extension": ".py",
   "mimetype": "text/x-python",
   "name": "python",
   "nbconvert_exporter": "python",
   "pygments_lexer": "ipython3",
   "version": "3.11.1"
  }
 },
 "nbformat": 4,
 "nbformat_minor": 2
}
