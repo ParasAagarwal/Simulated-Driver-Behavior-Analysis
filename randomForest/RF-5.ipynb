{
 "cells": [
  {
   "cell_type": "code",
   "execution_count": 1,
   "metadata": {},
   "outputs": [],
   "source": [
    "import pandas as pd\n",
    "from sklearn.ensemble import RandomForestClassifier\n",
    "from sklearn.metrics import accuracy_score"
   ]
  },
  {
   "cell_type": "code",
   "execution_count": 2,
   "metadata": {},
   "outputs": [],
   "source": [
    "# Read the dataset\n",
    "data = pd.read_csv('sensor_raw2.csv')\n",
    "window_size = 14"
   ]
  },
  {
   "cell_type": "code",
   "execution_count": 6,
   "metadata": {},
   "outputs": [
    {
     "name": "stdout",
     "output_type": "stream",
     "text": [
      "\n",
      "Model Accuracy on DriverID = 1 data: 0.7678571428571429\n",
      "\n",
      "Actual Class Counts at the End of the Journey for DriverID = 2:\n",
      "Class 1: 122 times\n",
      "Class 2: 88 times\n",
      "Class 3: 125 times\n",
      "Class 4: 14 times\n",
      "\n",
      "Actual Class Counts at the End of the Journey for DriverID = 3:\n",
      "Class 1: 199 times\n",
      "Class 2: 98 times\n",
      "Class 3: 27 times\n",
      "Class 4: 45 times\n"
     ]
    }
   ],
   "source": [
    "def train_model(data):\n",
    "    X = []\n",
    "    y = []\n",
    "\n",
    "    # Select data only for DriverID = 1\n",
    "    driver_data = data[data['DriverID'] == 'Driver-1']\n",
    "\n",
    "    for _, task_data in driver_data.groupby('Class'):\n",
    "        for i in range(0, len(task_data) - window_size):\n",
    "            window = task_data.iloc[i:i + window_size]\n",
    "            feature_vector = [window['AccX'].mean(),\n",
    "                              window['AccY'].mean(),\n",
    "                              window['AccZ'].mean(),\n",
    "                              window['GyroX'].mean(),\n",
    "                              window['GyroY'].mean(),\n",
    "                              window['GyroZ'].mean()]\n",
    "            X.append(feature_vector)\n",
    "            y.append(window['Class'].values[0])\n",
    "\n",
    "    model = RandomForestClassifier()\n",
    "    model.fit(X, y)\n",
    "\n",
    "    # Calculate and print model accuracy\n",
    "    X_test = []\n",
    "    y_test = []\n",
    "    for _, task_data in driver_data.groupby('Class'):\n",
    "        for i in range(len(task_data) - window_size, len(task_data)):\n",
    "            window = task_data.iloc[i:i + window_size]\n",
    "            feature_vector = [window['AccX'].mean(),\n",
    "                              window['AccY'].mean(),\n",
    "                              window['AccZ'].mean(),\n",
    "                              window['GyroX'].mean(),\n",
    "                              window['GyroY'].mean(),\n",
    "                              window['GyroZ'].mean()]\n",
    "            X_test.append(feature_vector)\n",
    "            y_test.append(window['Class'].values[0])\n",
    "\n",
    "    y_pred = model.predict(X_test)\n",
    "    accuracy = accuracy_score(y_test, y_pred)\n",
    "    print(f\"\\nModel Accuracy on DriverID = 1 data: {accuracy}\")\n",
    "\n",
    "    return model\n",
    "\n",
    "def predict_classes(model, data, driver_id):\n",
    "    class_counts = {1: 0, 2: 0, 3: 0, 4: 0}\n",
    "\n",
    "    # Select data for the given DriverID\n",
    "    driver_data = data[data['DriverID'] == f'Driver-{driver_id}']\n",
    "\n",
    "    for i in range(0, len(driver_data) - window_size):\n",
    "        window = driver_data.iloc[i:i + window_size]\n",
    "        feature_vector = [window['AccX'].mean(),\n",
    "                          window['AccY'].mean(),\n",
    "                          window['AccZ'].mean(),\n",
    "                          window['GyroX'].mean(),\n",
    "                          window['GyroY'].mean(),\n",
    "                          window['GyroZ'].mean()]\n",
    "        predicted_class = int(model.predict([feature_vector])[0])\n",
    "        class_counts[predicted_class] += 1\n",
    "\n",
    "    print(f\"\\nActual Class Counts at the End of the Journey for DriverID = {driver_id}:\")\n",
    "    for class_label, count in class_counts.items():\n",
    "        print(f\"Class {class_label}: {count} times\")\n",
    "\n",
    "# Train the model on data for DriverID = 1\n",
    "trained_model = train_model(data)\n",
    "\n",
    "# Predict classes at the end of the journey for DriverID = 2 and DriverID = 3\n",
    "predict_classes(trained_model, data, driver_id=2)\n",
    "predict_classes(trained_model, data, driver_id=3)"
   ]
  },
  {
   "cell_type": "code",
   "execution_count": null,
   "metadata": {},
   "outputs": [],
   "source": []
  }
 ],
 "metadata": {
  "kernelspec": {
   "display_name": "Python 3",
   "language": "python",
   "name": "python3"
  },
  "language_info": {
   "codemirror_mode": {
    "name": "ipython",
    "version": 3
   },
   "file_extension": ".py",
   "mimetype": "text/x-python",
   "name": "python",
   "nbconvert_exporter": "python",
   "pygments_lexer": "ipython3",
   "version": "3.11.1"
  }
 },
 "nbformat": 4,
 "nbformat_minor": 2
}
