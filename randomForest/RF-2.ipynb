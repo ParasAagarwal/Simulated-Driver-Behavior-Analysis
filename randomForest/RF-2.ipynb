{
 "cells": [
  {
   "cell_type": "code",
   "execution_count": 2,
   "metadata": {},
   "outputs": [],
   "source": [
    "import pandas as pd\n",
    "from sklearn.model_selection import train_test_split\n",
    "from sklearn.ensemble import RandomForestClassifier"
   ]
  },
  {
   "cell_type": "code",
   "execution_count": 3,
   "metadata": {},
   "outputs": [],
   "source": [
    "# Load your dataset\n",
    "data = pd.read_csv('sensor_raw2.csv')\n",
    "\n",
    "# Assume you have already trained your model and have the 'model' variable\n",
    "window_size = 14"
   ]
  },
  {
   "cell_type": "code",
   "execution_count": 4,
   "metadata": {},
   "outputs": [
    {
     "name": "stdout",
     "output_type": "stream",
     "text": [
      "Driver-1 Score: 2.3492063492063493\n",
      "Driver-2 Score: 2.3870967741935485\n",
      "Driver-3 Score: 2.803030303030303\n"
     ]
    }
   ],
   "source": [
    "# Define the features and labels\n",
    "features_columns = ['AccX', 'AccY', 'AccZ', 'GyroX', 'GyroY', 'GyroZ']\n",
    "X = data[features_columns]\n",
    "y = data['Class']\n",
    "\n",
    "window_size = 14\n",
    "\n",
    "def calculate_driver_scores(data, model):\n",
    "    driver_scores = {}\n",
    "\n",
    "    for driver_id, driver_data in data.groupby('DriverID'):\n",
    "        X_driver = []\n",
    "        y_driver = []\n",
    "        for _, task_data in driver_data.groupby('Class'):\n",
    "            for i in range(0, len(task_data) - window_size):\n",
    "                window = task_data.iloc[i:i + window_size]\n",
    "                feature_vector = [\n",
    "                    window['AccX'].mean(),\n",
    "                    window['AccY'].mean(),\n",
    "                    window['AccZ'].mean(),\n",
    "                    window['GyroX'].mean(),\n",
    "                    window['GyroY'].mean(),\n",
    "                    window['GyroZ'].mean()\n",
    "                ]\n",
    "                X_driver.append(feature_vector)\n",
    "                y_driver.append(window['Class'].values[0])\n",
    "\n",
    "        X_train, X_test, y_train, y_test = train_test_split(X_driver, y_driver, test_size=0.2, random_state=42)\n",
    "        model.fit(X_train, y_train)\n",
    "        y_pred = model.predict(X_test)\n",
    "\n",
    "        # Calculate the driver's score based on the predicted behaviors\n",
    "        driver_score = sum(y_pred) / len(y_pred)  # This is a simplified example; adjust based on your scoring criteria\n",
    "\n",
    "        # Store the driver's score\n",
    "        driver_scores[driver_id] = driver_score\n",
    "\n",
    "    return driver_scores\n",
    "\n",
    "# Train your model\n",
    "model = RandomForestClassifier()\n",
    "model.fit(X, y)\n",
    "\n",
    "# Calculate and print driver scores\n",
    "driver_scores = calculate_driver_scores(data, model)\n",
    "\n",
    "for driver_id, score in driver_scores.items():\n",
    "    print(f\"{driver_id} Score: {score}\")"
   ]
  }
 ],
 "metadata": {
  "kernelspec": {
   "display_name": "Python 3",
   "language": "python",
   "name": "python3"
  },
  "language_info": {
   "codemirror_mode": {
    "name": "ipython",
    "version": 3
   },
   "file_extension": ".py",
   "mimetype": "text/x-python",
   "name": "python",
   "nbconvert_exporter": "python",
   "pygments_lexer": "ipython3",
   "version": "3.11.1"
  }
 },
 "nbformat": 4,
 "nbformat_minor": 2
}
