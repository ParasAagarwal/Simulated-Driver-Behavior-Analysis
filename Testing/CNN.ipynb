{
  "cells": [
    {
      "cell_type": "markdown",
      "metadata": {
        "colab_type": "text",
        "id": "view-in-github"
      },
      "source": [
        "<a href=\"https://colab.research.google.com/github/retr0-kernel/UROP/blob/main/Driver_Behaviour_Analysis(CNN).ipynb\" target=\"_parent\"><img src=\"https://colab.research.google.com/assets/colab-badge.svg\" alt=\"Open In Colab\"/></a>"
      ]
    },
    {
      "cell_type": "code",
      "execution_count": 1,
      "metadata": {
        "id": "Kl7IYmio13fd"
      },
      "outputs": [],
      "source": [
        "import pandas as pd\n",
        "import numpy as np\n",
        "import os\n",
        "import tensorflow as tf\n",
        "from tensorflow import keras\n",
        "from sklearn.preprocessing import LabelEncoder\n",
        "from sklearn.model_selection import train_test_split\n",
        "from sklearn.preprocessing import StandardScaler"
      ]
    },
    {
      "cell_type": "code",
      "execution_count": 2,
      "metadata": {
        "id": "rP13h2wy2Yxe"
      },
      "outputs": [],
      "source": [
        "FILE = 'https://raw.githubusercontent.com/Ani-RudE/urop/main/DriverBehaviourAnalysis/train_motion_data.csv'\n",
        "df = pd.read_csv(FILE, header=0)"
      ]
    },
    {
      "cell_type": "code",
      "execution_count": 3,
      "metadata": {
        "id": "ko59-cOl2g_m"
      },
      "outputs": [],
      "source": [
        "X = df.drop('Class', axis=1)\n",
        "y = df['Class']\n",
        "label_encoder = LabelEncoder()\n",
        "y_encoded = label_encoder.fit_transform(y)"
      ]
    },
    {
      "cell_type": "code",
      "execution_count": 4,
      "metadata": {
        "id": "5tEhrgbp2lS-"
      },
      "outputs": [],
      "source": [
        "X_train, X_test, y_train, y_test = train_test_split(X, y_encoded, test_size=0.3, random_state=42)"
      ]
    },
    {
      "cell_type": "code",
      "execution_count": 5,
      "metadata": {
        "id": "0XDup1XS2na1"
      },
      "outputs": [],
      "source": [
        "scaler = StandardScaler()\n",
        "X_train = scaler.fit_transform(X_train)\n",
        "X_test = scaler.transform(X_test)"
      ]
    },
    {
      "cell_type": "code",
      "execution_count": 6,
      "metadata": {
        "id": "xA4wtgNX2qTO"
      },
      "outputs": [],
      "source": [
        "X_train = X_train.reshape(X_train.shape[0], X_train.shape[1], 1)\n",
        "X_test = X_test.reshape(X_test.shape[0], X_test.shape[1], 1)"
      ]
    },
    {
      "cell_type": "code",
      "execution_count": 7,
      "metadata": {
        "id": "PiP_L5Cs2tOw"
      },
      "outputs": [],
      "source": [
        "model = keras.Sequential([\n",
        "    keras.layers.Input(shape=(X_train.shape[1], 1)),\n",
        "    keras.layers.Conv1D(32, 3, activation='relu'),\n",
        "    keras.layers.MaxPooling1D(2),\n",
        "    keras.layers.Flatten(),\n",
        "    keras.layers.Dense(128, activation='relu'),\n",
        "    keras.layers.Dense(len(label_encoder.classes_), activation='softmax')\n",
        "])"
      ]
    },
    {
      "cell_type": "code",
      "execution_count": 10,
      "metadata": {
        "id": "MAHqUkBb2xrv"
      },
      "outputs": [
        {
          "name": "stdout",
          "output_type": "stream",
          "text": [
            "Epoch 1/50\n",
            "2174/2174 [==============================] - 7s 3ms/step - loss: 0.2821 - accuracy: 0.9042 - val_loss: 0.2881 - val_accuracy: 0.9051\n",
            "Epoch 2/50\n",
            "2174/2174 [==============================] - 6s 3ms/step - loss: 0.2646 - accuracy: 0.9118 - val_loss: 0.2715 - val_accuracy: 0.9154\n",
            "Epoch 3/50\n",
            "2174/2174 [==============================] - 6s 3ms/step - loss: 0.2422 - accuracy: 0.9202 - val_loss: 0.2840 - val_accuracy: 0.9002\n",
            "Epoch 4/50\n",
            "2174/2174 [==============================] - 5s 2ms/step - loss: 0.2225 - accuracy: 0.9266 - val_loss: 0.2502 - val_accuracy: 0.9264\n",
            "Epoch 5/50\n",
            "2174/2174 [==============================] - 5s 2ms/step - loss: 0.2162 - accuracy: 0.9293 - val_loss: 0.2279 - val_accuracy: 0.9336\n",
            "Epoch 6/50\n",
            "2174/2174 [==============================] - 5s 2ms/step - loss: 0.1934 - accuracy: 0.9363 - val_loss: 0.2174 - val_accuracy: 0.9383\n",
            "Epoch 7/50\n",
            "2174/2174 [==============================] - 5s 2ms/step - loss: 0.1900 - accuracy: 0.9374 - val_loss: 0.2137 - val_accuracy: 0.9396\n",
            "Epoch 8/50\n",
            "2174/2174 [==============================] - 5s 2ms/step - loss: 0.1736 - accuracy: 0.9437 - val_loss: 0.1856 - val_accuracy: 0.9511\n",
            "Epoch 9/50\n",
            "2174/2174 [==============================] - 5s 2ms/step - loss: 0.1685 - accuracy: 0.9459 - val_loss: 0.2424 - val_accuracy: 0.9358\n",
            "Epoch 10/50\n",
            "2174/2174 [==============================] - 5s 2ms/step - loss: 0.1665 - accuracy: 0.9466 - val_loss: 0.1726 - val_accuracy: 0.9520\n",
            "Epoch 11/50\n",
            "2174/2174 [==============================] - 5s 2ms/step - loss: 0.1583 - accuracy: 0.9488 - val_loss: 0.1797 - val_accuracy: 0.9492\n",
            "Epoch 12/50\n",
            "2174/2174 [==============================] - 5s 2ms/step - loss: 0.1433 - accuracy: 0.9534 - val_loss: 0.1700 - val_accuracy: 0.9517\n",
            "Epoch 13/50\n",
            "2174/2174 [==============================] - 5s 2ms/step - loss: 0.1463 - accuracy: 0.9525 - val_loss: 0.1904 - val_accuracy: 0.9471\n",
            "Epoch 14/50\n",
            "2174/2174 [==============================] - 5s 2ms/step - loss: 0.1356 - accuracy: 0.9567 - val_loss: 0.1629 - val_accuracy: 0.9523\n",
            "Epoch 15/50\n",
            "2174/2174 [==============================] - 5s 2ms/step - loss: 0.1297 - accuracy: 0.9590 - val_loss: 0.1691 - val_accuracy: 0.9458\n",
            "Epoch 16/50\n",
            "2174/2174 [==============================] - 5s 2ms/step - loss: 0.1318 - accuracy: 0.9580 - val_loss: 0.1518 - val_accuracy: 0.9587\n",
            "Epoch 17/50\n",
            "2174/2174 [==============================] - 5s 2ms/step - loss: 0.1218 - accuracy: 0.9616 - val_loss: 0.1503 - val_accuracy: 0.9581\n",
            "Epoch 18/50\n",
            "2174/2174 [==============================] - 5s 2ms/step - loss: 0.1147 - accuracy: 0.9638 - val_loss: 0.1465 - val_accuracy: 0.9601\n",
            "Epoch 19/50\n",
            "2174/2174 [==============================] - 5s 2ms/step - loss: 0.1152 - accuracy: 0.9644 - val_loss: 0.1435 - val_accuracy: 0.9648\n",
            "Epoch 20/50\n",
            "2174/2174 [==============================] - 6s 3ms/step - loss: 0.1104 - accuracy: 0.9654 - val_loss: 0.1416 - val_accuracy: 0.9650\n",
            "Epoch 21/50\n",
            "2174/2174 [==============================] - 6s 3ms/step - loss: 0.1070 - accuracy: 0.9680 - val_loss: 0.1438 - val_accuracy: 0.9650\n",
            "Epoch 22/50\n",
            "2174/2174 [==============================] - 5s 2ms/step - loss: 0.1056 - accuracy: 0.9683 - val_loss: 0.1559 - val_accuracy: 0.9546\n",
            "Epoch 23/50\n",
            "2174/2174 [==============================] - 5s 2ms/step - loss: 0.0973 - accuracy: 0.9705 - val_loss: 0.1316 - val_accuracy: 0.9685\n",
            "Epoch 24/50\n",
            "2174/2174 [==============================] - 5s 2ms/step - loss: 0.0951 - accuracy: 0.9719 - val_loss: 0.1311 - val_accuracy: 0.9680\n",
            "Epoch 25/50\n",
            "2174/2174 [==============================] - 5s 2ms/step - loss: 0.1043 - accuracy: 0.9670 - val_loss: 0.1366 - val_accuracy: 0.9679\n",
            "Epoch 26/50\n",
            "2174/2174 [==============================] - 5s 2ms/step - loss: 0.0888 - accuracy: 0.9718 - val_loss: 0.1266 - val_accuracy: 0.9686\n",
            "Epoch 27/50\n",
            "2174/2174 [==============================] - 5s 2ms/step - loss: 0.0941 - accuracy: 0.9716 - val_loss: 0.1599 - val_accuracy: 0.9686\n",
            "Epoch 28/50\n",
            "2174/2174 [==============================] - 5s 2ms/step - loss: 0.0876 - accuracy: 0.9737 - val_loss: 0.1220 - val_accuracy: 0.9732\n",
            "Epoch 29/50\n",
            "2174/2174 [==============================] - 5s 3ms/step - loss: 0.0853 - accuracy: 0.9738 - val_loss: 0.1291 - val_accuracy: 0.9669\n",
            "Epoch 30/50\n",
            "2174/2174 [==============================] - 5s 3ms/step - loss: 0.0867 - accuracy: 0.9737 - val_loss: 0.1247 - val_accuracy: 0.9741\n",
            "Epoch 31/50\n",
            "2174/2174 [==============================] - 5s 2ms/step - loss: 0.0811 - accuracy: 0.9749 - val_loss: 0.1186 - val_accuracy: 0.9749\n",
            "Epoch 32/50\n",
            "2174/2174 [==============================] - 5s 2ms/step - loss: 0.0855 - accuracy: 0.9735 - val_loss: 0.1344 - val_accuracy: 0.9677\n",
            "Epoch 33/50\n",
            "2174/2174 [==============================] - 5s 2ms/step - loss: 0.0801 - accuracy: 0.9759 - val_loss: 0.1052 - val_accuracy: 0.9752\n",
            "Epoch 34/50\n",
            "2174/2174 [==============================] - 5s 2ms/step - loss: 0.0782 - accuracy: 0.9758 - val_loss: 0.1028 - val_accuracy: 0.9762\n",
            "Epoch 35/50\n",
            "2174/2174 [==============================] - 5s 2ms/step - loss: 0.0774 - accuracy: 0.9754 - val_loss: 0.1068 - val_accuracy: 0.9742\n",
            "Epoch 36/50\n",
            "2174/2174 [==============================] - 5s 2ms/step - loss: 0.0842 - accuracy: 0.9749 - val_loss: 0.1132 - val_accuracy: 0.9687\n",
            "Epoch 37/50\n",
            "2174/2174 [==============================] - 5s 2ms/step - loss: 0.0772 - accuracy: 0.9776 - val_loss: 0.1364 - val_accuracy: 0.9670\n",
            "Epoch 38/50\n",
            "2174/2174 [==============================] - 5s 2ms/step - loss: 0.0746 - accuracy: 0.9769 - val_loss: 0.1348 - val_accuracy: 0.9642\n",
            "Epoch 39/50\n",
            "2174/2174 [==============================] - 5s 2ms/step - loss: 0.0749 - accuracy: 0.9771 - val_loss: 0.1083 - val_accuracy: 0.9722\n",
            "Epoch 40/50\n",
            "2174/2174 [==============================] - 5s 2ms/step - loss: 0.0720 - accuracy: 0.9782 - val_loss: 0.1336 - val_accuracy: 0.9621\n",
            "Epoch 41/50\n",
            "2174/2174 [==============================] - 5s 2ms/step - loss: 0.0734 - accuracy: 0.9768 - val_loss: 0.1213 - val_accuracy: 0.9688\n",
            "Epoch 42/50\n",
            "2174/2174 [==============================] - 5s 2ms/step - loss: 0.0770 - accuracy: 0.9765 - val_loss: 0.1224 - val_accuracy: 0.9669\n",
            "Epoch 43/50\n",
            "2174/2174 [==============================] - 5s 3ms/step - loss: 0.0693 - accuracy: 0.9789 - val_loss: 0.1099 - val_accuracy: 0.9761\n",
            "Epoch 44/50\n",
            "2174/2174 [==============================] - 5s 2ms/step - loss: 0.0700 - accuracy: 0.9781 - val_loss: 0.0962 - val_accuracy: 0.9790\n",
            "Epoch 45/50\n",
            "2174/2174 [==============================] - 5s 2ms/step - loss: 0.0667 - accuracy: 0.9789 - val_loss: 0.0963 - val_accuracy: 0.9774\n",
            "Epoch 46/50\n",
            "2174/2174 [==============================] - 5s 2ms/step - loss: 0.0672 - accuracy: 0.9788 - val_loss: 0.1100 - val_accuracy: 0.9715\n",
            "Epoch 47/50\n",
            "2174/2174 [==============================] - 5s 2ms/step - loss: 0.0636 - accuracy: 0.9797 - val_loss: 0.1059 - val_accuracy: 0.9737\n",
            "Epoch 48/50\n",
            "2174/2174 [==============================] - 5s 2ms/step - loss: 0.0661 - accuracy: 0.9800 - val_loss: 0.0919 - val_accuracy: 0.9788\n",
            "Epoch 49/50\n",
            "2174/2174 [==============================] - 5s 2ms/step - loss: 0.0670 - accuracy: 0.9800 - val_loss: 0.1288 - val_accuracy: 0.9690\n",
            "Epoch 50/50\n",
            "2174/2174 [==============================] - 5s 2ms/step - loss: 0.0613 - accuracy: 0.9817 - val_loss: 0.0956 - val_accuracy: 0.9754\n",
            "932/932 [==============================] - 1s 2ms/step - loss: 0.0956 - accuracy: 0.9754\n",
            "Test accuracy: 97.54%\n"
          ]
        }
      ],
      "source": [
        "custom_optimizer = keras.optimizers.Adam(learning_rate=0.001)\n",
        "model.compile(optimizer=custom_optimizer, loss='sparse_categorical_crossentropy', metrics=['accuracy'])\n",
        "history = model.fit(X_train, y_train, epochs=50, validation_data=(X_test, y_test), verbose=1)\n",
        "test_loss, test_accuracy = model.evaluate(X_test, y_test)\n",
        "print(f'Test accuracy: {test_accuracy * 100:.2f}%')"
      ]
    },
    {
      "cell_type": "code",
      "execution_count": null,
      "metadata": {},
      "outputs": [],
      "source": []
    }
  ],
  "metadata": {
    "colab": {
      "authorship_tag": "ABX9TyP6C5iH617uwQ+G1hS4gRS8",
      "include_colab_link": true,
      "provenance": []
    },
    "kernelspec": {
      "display_name": "Python 3",
      "name": "python3"
    },
    "language_info": {
      "codemirror_mode": {
        "name": "ipython",
        "version": 3
      },
      "file_extension": ".py",
      "mimetype": "text/x-python",
      "name": "python",
      "nbconvert_exporter": "python",
      "pygments_lexer": "ipython3",
      "version": "3.11.1"
    }
  },
  "nbformat": 4,
  "nbformat_minor": 0
}
