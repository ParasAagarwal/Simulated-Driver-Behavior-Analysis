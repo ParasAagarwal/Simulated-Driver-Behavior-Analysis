{
  "cells": [
    {
      "cell_type": "markdown",
      "metadata": {
        "colab_type": "text",
        "id": "view-in-github"
      },
      "source": [
        "<a href=\"https://colab.research.google.com/github/retr0-kernel/UROP/blob/main/Driver_Behaviour_Analysis(LSTM).ipynb\" target=\"_parent\"><img src=\"https://colab.research.google.com/assets/colab-badge.svg\" alt=\"Open In Colab\"/></a>"
      ]
    },
    {
      "cell_type": "code",
      "execution_count": 1,
      "metadata": {
        "id": "gZgecLNi0d0R"
      },
      "outputs": [],
      "source": [
        "#Below is implmentation for LSTM\n",
        "import pandas as pd\n",
        "import numpy as np\n",
        "import os\n",
        "import matplotlib.pyplot as plt\n",
        "from sklearn.preprocessing import StandardScaler, LabelEncoder\n",
        "from sklearn.model_selection import train_test_split\n",
        "import tensorflow as tf\n",
        "from tensorflow import keras\n",
        "from tensorflow.keras import layers"
      ]
    },
    {
      "cell_type": "code",
      "execution_count": 2,
      "metadata": {
        "id": "BTsG2atr0s3n"
      },
      "outputs": [],
      "source": [
        "FILE = 'https://raw.githubusercontent.com/Ani-RudE/urop/main/DriverBehaviourAnalysis/train_motion_data.csv'\n",
        "df = pd.read_csv(FILE, header=0)"
      ]
    },
    {
      "cell_type": "code",
      "execution_count": 5,
      "metadata": {
        "id": "VYJpqzBT0vnD"
      },
      "outputs": [],
      "source": [
        "X = df.drop('Class', axis=1)\n",
        "y = df['Class']"
      ]
    },
    {
      "cell_type": "code",
      "execution_count": 6,
      "metadata": {
        "id": "NHnpddbN0wMr"
      },
      "outputs": [],
      "source": [
        "label_encoder = LabelEncoder()\n",
        "y_encoded = label_encoder.fit_transform(y)"
      ]
    },
    {
      "cell_type": "code",
      "execution_count": 7,
      "metadata": {
        "id": "hMI1SaxO0x4Q"
      },
      "outputs": [],
      "source": [
        "X_train, X_test, y_train, y_test = train_test_split(X, y_encoded, test_size=0.3, random_state=42)"
      ]
    },
    {
      "cell_type": "code",
      "execution_count": 8,
      "metadata": {
        "id": "dH8_7TYv0zhe"
      },
      "outputs": [],
      "source": [
        "scaler = StandardScaler()\n",
        "X_train = scaler.fit_transform(X_train)\n",
        "X_test = scaler.transform(X_test)"
      ]
    },
    {
      "cell_type": "code",
      "execution_count": 9,
      "metadata": {
        "id": "__mYN2SO00_C"
      },
      "outputs": [],
      "source": [
        "model = keras.Sequential([\n",
        "    keras.layers.Input(shape=(X_train.shape[1], 1)),  #Input shape for sequences\n",
        "    keras.layers.LSTM(100, return_sequences=True),  #LSTM layer with return sequences\n",
        "    keras.layers.LSTM(100),  # LSTM layer\n",
        "    keras.layers.Dense(len(label_encoder.classes_), activation='softmax')\n",
        "])"
      ]
    },
    {
      "cell_type": "code",
      "execution_count": 10,
      "metadata": {
        "id": "RbKEUzo_03q1"
      },
      "outputs": [],
      "source": [
        "custom_optimizer = keras.optimizers.Adam(learning_rate=0.001)\n",
        "model.compile(optimizer=custom_optimizer, loss='sparse_categorical_crossentropy', metrics=['accuracy'])"
      ]
    },
    {
      "cell_type": "code",
      "execution_count": 11,
      "metadata": {
        "id": "hbrQATrm06I6"
      },
      "outputs": [
        {
          "name": "stdout",
          "output_type": "stream",
          "text": [
            "Epoch 1/50\n",
            "2174/2174 [==============================] - 32s 13ms/step - loss: 0.4906 - accuracy: 0.8031 - val_loss: 0.2370 - val_accuracy: 0.9079\n",
            "Epoch 2/50\n",
            "2174/2174 [==============================] - 27s 13ms/step - loss: 0.1701 - accuracy: 0.9319 - val_loss: 0.0987 - val_accuracy: 0.9609\n",
            "Epoch 3/50\n",
            "2174/2174 [==============================] - 28s 13ms/step - loss: 0.1267 - accuracy: 0.9494 - val_loss: 0.0710 - val_accuracy: 0.9743\n",
            "Epoch 4/50\n",
            "2174/2174 [==============================] - 27s 13ms/step - loss: 0.1066 - accuracy: 0.9580 - val_loss: 0.1227 - val_accuracy: 0.9511\n",
            "Epoch 5/50\n",
            "2174/2174 [==============================] - 27s 13ms/step - loss: 0.0941 - accuracy: 0.9626 - val_loss: 0.1262 - val_accuracy: 0.9463\n",
            "Epoch 6/50\n",
            "2174/2174 [==============================] - 27s 13ms/step - loss: 0.0847 - accuracy: 0.9664 - val_loss: 0.0864 - val_accuracy: 0.9691\n",
            "Epoch 7/50\n",
            "2174/2174 [==============================] - 27s 12ms/step - loss: 0.0754 - accuracy: 0.9707 - val_loss: 0.0838 - val_accuracy: 0.9644\n",
            "Epoch 8/50\n",
            "2174/2174 [==============================] - 27s 13ms/step - loss: 0.0665 - accuracy: 0.9737 - val_loss: 0.0564 - val_accuracy: 0.9796\n",
            "Epoch 9/50\n",
            "2174/2174 [==============================] - 27s 13ms/step - loss: 0.0654 - accuracy: 0.9749 - val_loss: 0.0478 - val_accuracy: 0.9774\n",
            "Epoch 10/50\n",
            "2174/2174 [==============================] - 28s 13ms/step - loss: 0.0587 - accuracy: 0.9766 - val_loss: 0.0279 - val_accuracy: 0.9909\n",
            "Epoch 11/50\n",
            "2174/2174 [==============================] - 28s 13ms/step - loss: 0.0574 - accuracy: 0.9783 - val_loss: 0.0453 - val_accuracy: 0.9834\n",
            "Epoch 12/50\n",
            "2174/2174 [==============================] - 30s 14ms/step - loss: 0.0511 - accuracy: 0.9799 - val_loss: 0.0387 - val_accuracy: 0.9842\n",
            "Epoch 13/50\n",
            "2174/2174 [==============================] - 28s 13ms/step - loss: 0.0499 - accuracy: 0.9811 - val_loss: 0.1026 - val_accuracy: 0.9579\n",
            "Epoch 14/50\n",
            "2174/2174 [==============================] - 28s 13ms/step - loss: 0.0438 - accuracy: 0.9840 - val_loss: 0.0500 - val_accuracy: 0.9817\n",
            "Epoch 15/50\n",
            "2174/2174 [==============================] - 27s 13ms/step - loss: 0.0419 - accuracy: 0.9843 - val_loss: 0.0328 - val_accuracy: 0.9887\n",
            "Epoch 16/50\n",
            "2174/2174 [==============================] - 28s 13ms/step - loss: 0.0411 - accuracy: 0.9853 - val_loss: 0.0234 - val_accuracy: 0.9911\n",
            "Epoch 17/50\n",
            "2174/2174 [==============================] - 28s 13ms/step - loss: 0.0402 - accuracy: 0.9856 - val_loss: 0.0328 - val_accuracy: 0.9891\n",
            "Epoch 18/50\n",
            "2174/2174 [==============================] - 27s 12ms/step - loss: 0.0357 - accuracy: 0.9872 - val_loss: 0.0279 - val_accuracy: 0.9918\n",
            "Epoch 19/50\n",
            "2174/2174 [==============================] - 27s 13ms/step - loss: 0.0366 - accuracy: 0.9868 - val_loss: 0.0219 - val_accuracy: 0.9922\n",
            "Epoch 20/50\n",
            "2174/2174 [==============================] - 28s 13ms/step - loss: 0.0356 - accuracy: 0.9870 - val_loss: 0.0251 - val_accuracy: 0.9902\n",
            "Epoch 21/50\n",
            "2174/2174 [==============================] - 28s 13ms/step - loss: 0.0328 - accuracy: 0.9881 - val_loss: 0.0233 - val_accuracy: 0.9917\n",
            "Epoch 22/50\n",
            "2174/2174 [==============================] - 28s 13ms/step - loss: 0.0323 - accuracy: 0.9884 - val_loss: 0.0560 - val_accuracy: 0.9775\n",
            "Epoch 23/50\n",
            "2174/2174 [==============================] - 28s 13ms/step - loss: 0.0308 - accuracy: 0.9890 - val_loss: 0.0209 - val_accuracy: 0.9919\n",
            "Epoch 24/50\n",
            "2174/2174 [==============================] - 31s 14ms/step - loss: 0.0260 - accuracy: 0.9902 - val_loss: 0.0227 - val_accuracy: 0.9902\n",
            "Epoch 25/50\n",
            "2174/2174 [==============================] - 29s 13ms/step - loss: 0.0283 - accuracy: 0.9898 - val_loss: 0.0266 - val_accuracy: 0.9907\n",
            "Epoch 26/50\n",
            "2174/2174 [==============================] - 28s 13ms/step - loss: 0.0266 - accuracy: 0.9905 - val_loss: 0.0207 - val_accuracy: 0.9916\n",
            "Epoch 27/50\n",
            "2174/2174 [==============================] - 27s 13ms/step - loss: 0.0271 - accuracy: 0.9907 - val_loss: 0.0265 - val_accuracy: 0.9896\n",
            "Epoch 28/50\n",
            "2174/2174 [==============================] - 27s 13ms/step - loss: 0.0258 - accuracy: 0.9907 - val_loss: 0.0371 - val_accuracy: 0.9832\n",
            "Epoch 29/50\n",
            "2174/2174 [==============================] - 28s 13ms/step - loss: 0.0263 - accuracy: 0.9909 - val_loss: 0.0172 - val_accuracy: 0.9938\n",
            "Epoch 30/50\n",
            "2174/2174 [==============================] - 27s 13ms/step - loss: 0.0246 - accuracy: 0.9912 - val_loss: 0.0191 - val_accuracy: 0.9933\n",
            "Epoch 31/50\n",
            "2174/2174 [==============================] - 27s 13ms/step - loss: 0.0230 - accuracy: 0.9920 - val_loss: 0.0196 - val_accuracy: 0.9923\n",
            "Epoch 32/50\n",
            "2174/2174 [==============================] - 27s 13ms/step - loss: 0.0220 - accuracy: 0.9925 - val_loss: 0.0248 - val_accuracy: 0.9892\n",
            "Epoch 33/50\n",
            "2174/2174 [==============================] - 27s 13ms/step - loss: 0.0197 - accuracy: 0.9930 - val_loss: 0.0348 - val_accuracy: 0.9895\n",
            "Epoch 34/50\n",
            "2174/2174 [==============================] - 27s 13ms/step - loss: 0.0211 - accuracy: 0.9930 - val_loss: 0.0236 - val_accuracy: 0.9907\n",
            "Epoch 35/50\n",
            "2174/2174 [==============================] - 28s 13ms/step - loss: 0.0204 - accuracy: 0.9929 - val_loss: 0.0244 - val_accuracy: 0.9937\n",
            "Epoch 36/50\n",
            "2174/2174 [==============================] - 28s 13ms/step - loss: 0.0177 - accuracy: 0.9939 - val_loss: 0.0122 - val_accuracy: 0.9956\n",
            "Epoch 37/50\n",
            "2174/2174 [==============================] - 28s 13ms/step - loss: 0.0191 - accuracy: 0.9936 - val_loss: 0.0125 - val_accuracy: 0.9958\n",
            "Epoch 38/50\n",
            "2174/2174 [==============================] - 28s 13ms/step - loss: 0.0176 - accuracy: 0.9939 - val_loss: 0.0159 - val_accuracy: 0.9939\n",
            "Epoch 39/50\n",
            "2174/2174 [==============================] - 28s 13ms/step - loss: 0.0181 - accuracy: 0.9939 - val_loss: 0.0129 - val_accuracy: 0.9955\n",
            "Epoch 40/50\n",
            "2174/2174 [==============================] - 28s 13ms/step - loss: 0.0173 - accuracy: 0.9943 - val_loss: 0.0332 - val_accuracy: 0.9871\n",
            "Epoch 41/50\n",
            "2174/2174 [==============================] - 28s 13ms/step - loss: 0.0164 - accuracy: 0.9945 - val_loss: 0.0130 - val_accuracy: 0.9958\n",
            "Epoch 42/50\n",
            "2174/2174 [==============================] - 28s 13ms/step - loss: 0.0185 - accuracy: 0.9939 - val_loss: 0.0082 - val_accuracy: 0.9979\n",
            "Epoch 43/50\n",
            "2174/2174 [==============================] - 28s 13ms/step - loss: 0.0169 - accuracy: 0.9944 - val_loss: 0.0213 - val_accuracy: 0.9915\n",
            "Epoch 44/50\n",
            "2174/2174 [==============================] - 29s 13ms/step - loss: 0.0163 - accuracy: 0.9941 - val_loss: 0.0228 - val_accuracy: 0.9914\n",
            "Epoch 45/50\n",
            "2174/2174 [==============================] - 29s 13ms/step - loss: 0.0187 - accuracy: 0.9939 - val_loss: 0.0206 - val_accuracy: 0.9918\n",
            "Epoch 46/50\n",
            "2174/2174 [==============================] - 28s 13ms/step - loss: 0.0139 - accuracy: 0.9952 - val_loss: 0.0108 - val_accuracy: 0.9969\n",
            "Epoch 47/50\n",
            "2174/2174 [==============================] - 28s 13ms/step - loss: 0.0151 - accuracy: 0.9948 - val_loss: 0.0095 - val_accuracy: 0.9969\n",
            "Epoch 48/50\n",
            "2174/2174 [==============================] - 28s 13ms/step - loss: 0.0166 - accuracy: 0.9947 - val_loss: 0.0295 - val_accuracy: 0.9890\n",
            "Epoch 49/50\n",
            "2174/2174 [==============================] - 28s 13ms/step - loss: 0.0168 - accuracy: 0.9943 - val_loss: 0.0135 - val_accuracy: 0.9961\n",
            "Epoch 50/50\n",
            "2174/2174 [==============================] - 28s 13ms/step - loss: 0.0143 - accuracy: 0.9952 - val_loss: 0.0214 - val_accuracy: 0.9910\n",
            "932/932 [==============================] - 4s 4ms/step - loss: 0.0214 - accuracy: 0.9910\n",
            "Test accuracy: 99.10%\n"
          ]
        }
      ],
      "source": [
        "history = model.fit(X_train, y_train, epochs=50, validation_data=(X_test, y_test), verbose=1)\n",
        "test_loss, test_accuracy = model.evaluate(X_test, y_test)\n",
        "print(f'Test accuracy: {test_accuracy * 100:.2f}%')"
      ]
    }
  ],
  "metadata": {
    "colab": {
      "authorship_tag": "ABX9TyMgBcEe8nSRhDuTC7qHNaN+",
      "include_colab_link": true,
      "provenance": []
    },
    "kernelspec": {
      "display_name": "Python 3",
      "name": "python3"
    },
    "language_info": {
      "codemirror_mode": {
        "name": "ipython",
        "version": 3
      },
      "file_extension": ".py",
      "mimetype": "text/x-python",
      "name": "python",
      "nbconvert_exporter": "python",
      "pygments_lexer": "ipython3",
      "version": "3.11.1"
    }
  },
  "nbformat": 4,
  "nbformat_minor": 0
}
