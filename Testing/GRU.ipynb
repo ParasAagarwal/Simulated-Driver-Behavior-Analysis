{
 "cells": [
  {
   "cell_type": "code",
   "execution_count": 1,
   "metadata": {},
   "outputs": [],
   "source": [
    "import pandas as pd\n",
    "import numpy as np\n",
    "import os\n",
    "import tensorflow as tf\n",
    "from tensorflow import keras\n",
    "from sklearn.preprocessing import LabelEncoder\n",
    "from sklearn.model_selection import train_test_split\n",
    "from sklearn.preprocessing import StandardScaler"
   ]
  },
  {
   "cell_type": "code",
   "execution_count": 2,
   "metadata": {},
   "outputs": [],
   "source": [
    "FILE = 'https://raw.githubusercontent.com/Ani-RudE/urop/main/DriverBehaviourAnalysis/train_motion_data.csv'\n",
    "df = pd.read_csv(FILE, header=0)"
   ]
  },
  {
   "cell_type": "code",
   "execution_count": 3,
   "metadata": {},
   "outputs": [],
   "source": [
    "X = df.drop('Class', axis=1)\n",
    "y = df['Class']\n",
    "label_encoder = LabelEncoder()\n",
    "y_encoded = label_encoder.fit_transform(y)"
   ]
  },
  {
   "cell_type": "code",
   "execution_count": 4,
   "metadata": {},
   "outputs": [],
   "source": [
    "X_train, X_test, y_train, y_test = train_test_split(X, y_encoded, test_size=0.3, random_state=42)"
   ]
  },
  {
   "cell_type": "code",
   "execution_count": 5,
   "metadata": {},
   "outputs": [],
   "source": [
    "scaler = StandardScaler()\n",
    "X_train = scaler.fit_transform(X_train)\n",
    "X_test = scaler.transform(X_test)"
   ]
  },
  {
   "cell_type": "code",
   "execution_count": 6,
   "metadata": {},
   "outputs": [],
   "source": [
    "X_train = X_train.reshape(X_train.shape[0], X_train.shape[1], 1)\n",
    "X_test = X_test.reshape(X_test.shape[0], X_test.shape[1], 1)"
   ]
  },
  {
   "cell_type": "code",
   "execution_count": 7,
   "metadata": {},
   "outputs": [],
   "source": [
    "model = keras.Sequential([\n",
    "    keras.layers.Input(shape=(X_train.shape[1], 1)), \n",
    "    keras.layers.GRU(64, return_sequences=True), \n",
    "    keras.layers.GRU(64),  \n",
    "    keras.layers.Dense(128, activation='relu'), \n",
    "    keras.layers.Dense(len(label_encoder.classes_), activation='softmax')\n",
    "])"
   ]
  },
  {
   "cell_type": "code",
   "execution_count": 8,
   "metadata": {},
   "outputs": [
    {
     "name": "stdout",
     "output_type": "stream",
     "text": [
      "Epoch 1/50\n",
      "2174/2174 [==============================] - 25s 9ms/step - loss: 0.5231 - accuracy: 0.7854 - val_loss: 0.1674 - val_accuracy: 0.9311\n",
      "Epoch 2/50\n",
      "2174/2174 [==============================] - 18s 8ms/step - loss: 0.1688 - accuracy: 0.9305 - val_loss: 0.1425 - val_accuracy: 0.9294\n",
      "Epoch 3/50\n",
      "2174/2174 [==============================] - 18s 8ms/step - loss: 0.1373 - accuracy: 0.9461 - val_loss: 0.1099 - val_accuracy: 0.9524\n",
      "Epoch 4/50\n",
      "2174/2174 [==============================] - 18s 8ms/step - loss: 0.1158 - accuracy: 0.9539 - val_loss: 0.0927 - val_accuracy: 0.9662\n",
      "Epoch 5/50\n",
      "2174/2174 [==============================] - 18s 8ms/step - loss: 0.1086 - accuracy: 0.9555 - val_loss: 0.1149 - val_accuracy: 0.9516\n",
      "Epoch 6/50\n",
      "2174/2174 [==============================] - 19s 9ms/step - loss: 0.1012 - accuracy: 0.9604 - val_loss: 0.0826 - val_accuracy: 0.9630\n",
      "Epoch 7/50\n",
      "2174/2174 [==============================] - 18s 8ms/step - loss: 0.0887 - accuracy: 0.9647 - val_loss: 0.0591 - val_accuracy: 0.9803\n",
      "Epoch 8/50\n",
      "2174/2174 [==============================] - 18s 8ms/step - loss: 0.0776 - accuracy: 0.9705 - val_loss: 0.0744 - val_accuracy: 0.9629\n",
      "Epoch 9/50\n",
      "2174/2174 [==============================] - 18s 8ms/step - loss: 0.0785 - accuracy: 0.9702 - val_loss: 0.1176 - val_accuracy: 0.9567\n",
      "Epoch 10/50\n",
      "2174/2174 [==============================] - 17s 8ms/step - loss: 0.0739 - accuracy: 0.9714 - val_loss: 0.0388 - val_accuracy: 0.9866\n",
      "Epoch 11/50\n",
      "2174/2174 [==============================] - 18s 8ms/step - loss: 0.0674 - accuracy: 0.9747 - val_loss: 0.0319 - val_accuracy: 0.9895\n",
      "Epoch 12/50\n",
      "2174/2174 [==============================] - 17s 8ms/step - loss: 0.0596 - accuracy: 0.9774 - val_loss: 0.0432 - val_accuracy: 0.9835\n",
      "Epoch 13/50\n",
      "2174/2174 [==============================] - 18s 8ms/step - loss: 0.0614 - accuracy: 0.9779 - val_loss: 0.0366 - val_accuracy: 0.9874\n",
      "Epoch 14/50\n",
      "2174/2174 [==============================] - 20s 9ms/step - loss: 0.0564 - accuracy: 0.9789 - val_loss: 0.1511 - val_accuracy: 0.9472\n",
      "Epoch 15/50\n",
      "2174/2174 [==============================] - 19s 9ms/step - loss: 0.0540 - accuracy: 0.9797 - val_loss: 0.0981 - val_accuracy: 0.9611\n",
      "Epoch 16/50\n",
      "2174/2174 [==============================] - 19s 9ms/step - loss: 0.0520 - accuracy: 0.9813 - val_loss: 0.0271 - val_accuracy: 0.9904\n",
      "Epoch 17/50\n",
      "2174/2174 [==============================] - 19s 9ms/step - loss: 0.0475 - accuracy: 0.9819 - val_loss: 0.0423 - val_accuracy: 0.9835\n",
      "Epoch 18/50\n",
      "2174/2174 [==============================] - 20s 9ms/step - loss: 0.0449 - accuracy: 0.9832 - val_loss: 0.0601 - val_accuracy: 0.9748\n",
      "Epoch 19/50\n",
      "2174/2174 [==============================] - 19s 9ms/step - loss: 0.0446 - accuracy: 0.9837 - val_loss: 0.0467 - val_accuracy: 0.9849\n",
      "Epoch 20/50\n",
      "2174/2174 [==============================] - 20s 9ms/step - loss: 0.0480 - accuracy: 0.9825 - val_loss: 0.0334 - val_accuracy: 0.9902\n",
      "Epoch 21/50\n",
      "2174/2174 [==============================] - 19s 9ms/step - loss: 0.0409 - accuracy: 0.9854 - val_loss: 0.0265 - val_accuracy: 0.9904\n",
      "Epoch 22/50\n",
      "2174/2174 [==============================] - 19s 9ms/step - loss: 0.0399 - accuracy: 0.9858 - val_loss: 0.0216 - val_accuracy: 0.9937\n",
      "Epoch 23/50\n",
      "2174/2174 [==============================] - 19s 9ms/step - loss: 0.0363 - accuracy: 0.9870 - val_loss: 0.0276 - val_accuracy: 0.9889\n",
      "Epoch 24/50\n",
      "2174/2174 [==============================] - 20s 9ms/step - loss: 0.0386 - accuracy: 0.9861 - val_loss: 0.0268 - val_accuracy: 0.9904\n",
      "Epoch 25/50\n",
      "2174/2174 [==============================] - 19s 9ms/step - loss: 0.0382 - accuracy: 0.9865 - val_loss: 0.0176 - val_accuracy: 0.9944\n",
      "Epoch 26/50\n",
      "2174/2174 [==============================] - 19s 9ms/step - loss: 0.0334 - accuracy: 0.9879 - val_loss: 0.0280 - val_accuracy: 0.9913\n",
      "Epoch 27/50\n",
      "2174/2174 [==============================] - 18s 8ms/step - loss: 0.0337 - accuracy: 0.9879 - val_loss: 0.0185 - val_accuracy: 0.9930\n",
      "Epoch 28/50\n",
      "2174/2174 [==============================] - 18s 8ms/step - loss: 0.0319 - accuracy: 0.9886 - val_loss: 0.0304 - val_accuracy: 0.9884\n",
      "Epoch 29/50\n",
      "2174/2174 [==============================] - 18s 8ms/step - loss: 0.0348 - accuracy: 0.9875 - val_loss: 0.0291 - val_accuracy: 0.9886\n",
      "Epoch 30/50\n",
      "2174/2174 [==============================] - 18s 8ms/step - loss: 0.0312 - accuracy: 0.9888 - val_loss: 0.0431 - val_accuracy: 0.9826\n",
      "Epoch 31/50\n",
      "2174/2174 [==============================] - 18s 8ms/step - loss: 0.0309 - accuracy: 0.9891 - val_loss: 0.0610 - val_accuracy: 0.9791\n",
      "Epoch 32/50\n",
      "2174/2174 [==============================] - 17s 8ms/step - loss: 0.0299 - accuracy: 0.9893 - val_loss: 0.0204 - val_accuracy: 0.9927\n",
      "Epoch 33/50\n",
      "2174/2174 [==============================] - 17s 8ms/step - loss: 0.0282 - accuracy: 0.9902 - val_loss: 0.0159 - val_accuracy: 0.9941\n",
      "Epoch 34/50\n",
      "2174/2174 [==============================] - 17s 8ms/step - loss: 0.0297 - accuracy: 0.9897 - val_loss: 0.0753 - val_accuracy: 0.9791\n",
      "Epoch 35/50\n",
      "2174/2174 [==============================] - 17s 8ms/step - loss: 0.0253 - accuracy: 0.9905 - val_loss: 0.0293 - val_accuracy: 0.9898\n",
      "Epoch 36/50\n",
      "2174/2174 [==============================] - 17s 8ms/step - loss: 0.0280 - accuracy: 0.9904 - val_loss: 0.0276 - val_accuracy: 0.9903\n",
      "Epoch 37/50\n",
      "2174/2174 [==============================] - 17s 8ms/step - loss: 0.0284 - accuracy: 0.9902 - val_loss: 0.0306 - val_accuracy: 0.9865\n",
      "Epoch 38/50\n",
      "2174/2174 [==============================] - 17s 8ms/step - loss: 0.0253 - accuracy: 0.9913 - val_loss: 0.0189 - val_accuracy: 0.9942\n",
      "Epoch 39/50\n",
      "2174/2174 [==============================] - 17s 8ms/step - loss: 0.0245 - accuracy: 0.9913 - val_loss: 0.0149 - val_accuracy: 0.9944\n",
      "Epoch 40/50\n",
      "2174/2174 [==============================] - 17s 8ms/step - loss: 0.0285 - accuracy: 0.9905 - val_loss: 0.0357 - val_accuracy: 0.9865\n",
      "Epoch 41/50\n",
      "2174/2174 [==============================] - 17s 8ms/step - loss: 0.0254 - accuracy: 0.9910 - val_loss: 0.0165 - val_accuracy: 0.9950\n",
      "Epoch 42/50\n",
      "2174/2174 [==============================] - 17s 8ms/step - loss: 0.0210 - accuracy: 0.9929 - val_loss: 0.0211 - val_accuracy: 0.9930\n",
      "Epoch 43/50\n",
      "2174/2174 [==============================] - 17s 8ms/step - loss: 0.0221 - accuracy: 0.9925 - val_loss: 0.0609 - val_accuracy: 0.9849\n",
      "Epoch 44/50\n",
      "2174/2174 [==============================] - 17s 8ms/step - loss: 0.0221 - accuracy: 0.9925 - val_loss: 0.0318 - val_accuracy: 0.9889\n",
      "Epoch 45/50\n",
      "2174/2174 [==============================] - 17s 8ms/step - loss: 0.0206 - accuracy: 0.9927 - val_loss: 0.0139 - val_accuracy: 0.9951\n",
      "Epoch 46/50\n",
      "2174/2174 [==============================] - 17s 8ms/step - loss: 0.0210 - accuracy: 0.9929 - val_loss: 0.0185 - val_accuracy: 0.9932\n",
      "Epoch 47/50\n",
      "2174/2174 [==============================] - 18s 8ms/step - loss: 0.0212 - accuracy: 0.9928 - val_loss: 0.0643 - val_accuracy: 0.9793\n",
      "Epoch 48/50\n",
      "2174/2174 [==============================] - 17s 8ms/step - loss: 0.0222 - accuracy: 0.9929 - val_loss: 0.0117 - val_accuracy: 0.9965\n",
      "Epoch 49/50\n",
      "2174/2174 [==============================] - 17s 8ms/step - loss: 0.0204 - accuracy: 0.9930 - val_loss: 0.0079 - val_accuracy: 0.9976\n",
      "Epoch 50/50\n",
      "2174/2174 [==============================] - 17s 8ms/step - loss: 0.0226 - accuracy: 0.9924 - val_loss: 0.0106 - val_accuracy: 0.9968\n",
      "932/932 [==============================] - 3s 3ms/step - loss: 0.0106 - accuracy: 0.9968\n",
      "Test accuracy: 99.68%\n"
     ]
    }
   ],
   "source": [
    "custom_optimizer = keras.optimizers.Adam(learning_rate=0.001)\n",
    "model.compile(optimizer=custom_optimizer, loss='sparse_categorical_crossentropy', metrics=['accuracy'])\n",
    "history = model.fit(X_train, y_train, epochs=50, validation_data=(X_test, y_test), verbose=1)\n",
    "test_loss, test_accuracy = model.evaluate(X_test, y_test)\n",
    "print(f'Test accuracy: {test_accuracy * 100:.2f}%')"
   ]
  }
 ],
 "metadata": {
  "kernelspec": {
   "display_name": "Python 3",
   "language": "python",
   "name": "python3"
  },
  "language_info": {
   "codemirror_mode": {
    "name": "ipython",
    "version": 3
   },
   "file_extension": ".py",
   "mimetype": "text/x-python",
   "name": "python",
   "nbconvert_exporter": "python",
   "pygments_lexer": "ipython3",
   "version": "3.11.1"
  }
 },
 "nbformat": 4,
 "nbformat_minor": 2
}
