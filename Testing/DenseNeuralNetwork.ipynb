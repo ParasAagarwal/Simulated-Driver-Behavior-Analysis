{
  "cells": [
    {
      "cell_type": "markdown",
      "metadata": {
        "colab_type": "text",
        "id": "view-in-github"
      },
      "source": [
        "<a href=\"https://colab.research.google.com/github/retr0-kernel/UROP/blob/main/Driver_Behaviour_Analysis(Dense_Neural_Network).ipynb\" target=\"_parent\"><img src=\"https://colab.research.google.com/assets/colab-badge.svg\" alt=\"Open In Colab\"/></a>"
      ]
    },
    {
      "cell_type": "code",
      "execution_count": 1,
      "metadata": {
        "id": "FTdaz5_UnIz7"
      },
      "outputs": [],
      "source": [
        "import pandas as pd\n",
        "import numpy as np\n",
        "import os\n",
        "from sklearn.preprocessing import StandardScaler, LabelEncoder\n",
        "from sklearn.model_selection import train_test_split\n",
        "import tensorflow as tf\n",
        "from tensorflow import keras"
      ]
    },
    {
      "cell_type": "code",
      "execution_count": 2,
      "metadata": {
        "id": "MxxvEsPvoI78"
      },
      "outputs": [],
      "source": [
        "dataset = 'https://raw.githubusercontent.com/Ani-RudE/urop/main/DriverBehaviourAnalysis/train_motion_data.csv'\n",
        "df = pd.read_csv(dataset, header=0)"
      ]
    },
    {
      "cell_type": "code",
      "execution_count": 3,
      "metadata": {
        "id": "koL-tgtjoxb7"
      },
      "outputs": [],
      "source": [
        "X = df.drop('Class', axis=1) #Features\n",
        "y = df['Class'] #Labels"
      ]
    },
    {
      "cell_type": "code",
      "execution_count": 4,
      "metadata": {
        "id": "n8kRlXSusLvF"
      },
      "outputs": [],
      "source": [
        "#Labels(strings) to numeric conversion\n",
        "label_encoder = LabelEncoder()\n",
        "y_encoded = label_encoder.fit_transform(y)"
      ]
    },
    {
      "cell_type": "code",
      "execution_count": 5,
      "metadata": {
        "id": "SndZuhm43plR"
      },
      "outputs": [],
      "source": [
        "X_train, X_test, y_train, y_test = train_test_split(X, y_encoded, test_size=0.3, random_state=42) #30% for testing other 70% for training\n",
        "#Random_state is used for reliability and reproducibility"
      ]
    },
    {
      "cell_type": "code",
      "execution_count": 6,
      "metadata": {
        "id": "NzLP9iHhvFjn"
      },
      "outputs": [],
      "source": [
        "#Standardization\n",
        "scaler = StandardScaler()\n",
        "X_train = scaler.fit_transform(X_train)\n",
        "X_test = scaler.transform(X_test)"
      ]
    },
    {
      "cell_type": "code",
      "execution_count": 19,
      "metadata": {
        "id": "mozkS5Cev6G4"
      },
      "outputs": [],
      "source": [
        "model = keras.Sequential([\n",
        "keras.layers.Input(shape=X_train.shape[1:]),\n",
        "keras.layers.Dense(1000, activation='relu'),\n",
        "keras.layers.Dense(1000, activation='relu'),\n",
        "keras.layers.Dense(1000, activation='relu'),\n",
        "keras.layers.Dense(1000, activation='relu'),\n",
        "keras.layers.Dropout(0.2), #Prevents overfitting\n",
        "keras.layers.Dense(len(label_encoder.classes_), activation='softmax') #Softmax activation function for multi-class classification.\n",
        "])"
      ]
    },
    {
      "cell_type": "code",
      "execution_count": 20,
      "metadata": {
        "id": "zuCNmnuez54F"
      },
      "outputs": [],
      "source": [
        "model.compile(optimizer='adam',\n",
        "loss='sparse_categorical_crossentropy',\n",
        "metrics=['accuracy'])"
      ]
    },
    {
      "cell_type": "code",
      "execution_count": 21,
      "metadata": {
        "id": "8XqaUL7aTmCw"
      },
      "outputs": [
        {
          "name": "stdout",
          "output_type": "stream",
          "text": [
            "Epoch 1/30\n",
            "80/80 [==============================] - 4s 37ms/step - loss: 1.0886 - accuracy: 0.4059 - val_loss: 1.0825 - val_accuracy: 0.4031\n",
            "Epoch 2/30\n",
            "80/80 [==============================] - 3s 35ms/step - loss: 1.0597 - accuracy: 0.4349 - val_loss: 1.0658 - val_accuracy: 0.4040\n",
            "Epoch 3/30\n",
            "80/80 [==============================] - 3s 35ms/step - loss: 1.0455 - accuracy: 0.4408 - val_loss: 1.0762 - val_accuracy: 0.4049\n",
            "Epoch 4/30\n",
            "80/80 [==============================] - 3s 34ms/step - loss: 1.0411 - accuracy: 0.4490 - val_loss: 1.0683 - val_accuracy: 0.4077\n",
            "Epoch 5/30\n",
            "80/80 [==============================] - 3s 33ms/step - loss: 1.0393 - accuracy: 0.4396 - val_loss: 1.0684 - val_accuracy: 0.3949\n",
            "Epoch 6/30\n",
            "80/80 [==============================] - 3s 34ms/step - loss: 1.0303 - accuracy: 0.4545 - val_loss: 1.0752 - val_accuracy: 0.4132\n",
            "Epoch 7/30\n",
            "80/80 [==============================] - 3s 34ms/step - loss: 1.0263 - accuracy: 0.4659 - val_loss: 1.0610 - val_accuracy: 0.4159\n",
            "Epoch 8/30\n",
            "80/80 [==============================] - 3s 34ms/step - loss: 1.0225 - accuracy: 0.4592 - val_loss: 1.0577 - val_accuracy: 0.4305\n",
            "Epoch 9/30\n",
            "80/80 [==============================] - 3s 33ms/step - loss: 1.0119 - accuracy: 0.4769 - val_loss: 1.0927 - val_accuracy: 0.3949\n",
            "Epoch 10/30\n",
            "80/80 [==============================] - 3s 34ms/step - loss: 1.0048 - accuracy: 0.4737 - val_loss: 1.0673 - val_accuracy: 0.4132\n",
            "Epoch 11/30\n",
            "80/80 [==============================] - 3s 34ms/step - loss: 0.9921 - accuracy: 0.4890 - val_loss: 1.0988 - val_accuracy: 0.4122\n",
            "Epoch 12/30\n",
            "80/80 [==============================] - 3s 34ms/step - loss: 0.9860 - accuracy: 0.4976 - val_loss: 1.0951 - val_accuracy: 0.4022\n",
            "Epoch 13/30\n",
            "80/80 [==============================] - 3s 34ms/step - loss: 0.9703 - accuracy: 0.4988 - val_loss: 1.0861 - val_accuracy: 0.4113\n",
            "Epoch 14/30\n",
            "80/80 [==============================] - 3s 34ms/step - loss: 0.9612 - accuracy: 0.5173 - val_loss: 1.1215 - val_accuracy: 0.4159\n",
            "Epoch 15/30\n",
            "80/80 [==============================] - 3s 35ms/step - loss: 0.9542 - accuracy: 0.5212 - val_loss: 1.1735 - val_accuracy: 0.4013\n",
            "Epoch 16/30\n",
            "80/80 [==============================] - 3s 34ms/step - loss: 0.9337 - accuracy: 0.5345 - val_loss: 1.1249 - val_accuracy: 0.4132\n",
            "Epoch 17/30\n",
            "80/80 [==============================] - 3s 34ms/step - loss: 0.9167 - accuracy: 0.5463 - val_loss: 1.2119 - val_accuracy: 0.4068\n",
            "Epoch 18/30\n",
            "80/80 [==============================] - 3s 33ms/step - loss: 0.8988 - accuracy: 0.5478 - val_loss: 1.2559 - val_accuracy: 0.4104\n",
            "Epoch 19/30\n",
            "80/80 [==============================] - 3s 34ms/step - loss: 0.8773 - accuracy: 0.5733 - val_loss: 1.1991 - val_accuracy: 0.3976\n",
            "Epoch 20/30\n",
            "80/80 [==============================] - 3s 33ms/step - loss: 0.8742 - accuracy: 0.5796 - val_loss: 1.3052 - val_accuracy: 0.3967\n",
            "Epoch 21/30\n",
            "80/80 [==============================] - 3s 34ms/step - loss: 0.8479 - accuracy: 0.5894 - val_loss: 1.2815 - val_accuracy: 0.3921\n",
            "Epoch 22/30\n",
            "80/80 [==============================] - 3s 34ms/step - loss: 0.8035 - accuracy: 0.6255 - val_loss: 1.4749 - val_accuracy: 0.3931\n",
            "Epoch 23/30\n",
            "80/80 [==============================] - 3s 34ms/step - loss: 0.7820 - accuracy: 0.6294 - val_loss: 1.4300 - val_accuracy: 0.3976\n",
            "Epoch 24/30\n",
            "80/80 [==============================] - 3s 33ms/step - loss: 0.7477 - accuracy: 0.6576 - val_loss: 1.5494 - val_accuracy: 0.3839\n",
            "Epoch 25/30\n",
            "80/80 [==============================] - 3s 35ms/step - loss: 0.7045 - accuracy: 0.6776 - val_loss: 1.8639 - val_accuracy: 0.3793\n",
            "Epoch 26/30\n",
            "80/80 [==============================] - 3s 34ms/step - loss: 0.6844 - accuracy: 0.6969 - val_loss: 1.6542 - val_accuracy: 0.3729\n",
            "Epoch 27/30\n",
            "80/80 [==============================] - 3s 33ms/step - loss: 0.6398 - accuracy: 0.7059 - val_loss: 1.9840 - val_accuracy: 0.3684\n",
            "Epoch 28/30\n",
            "80/80 [==============================] - 3s 34ms/step - loss: 0.5979 - accuracy: 0.7329 - val_loss: 1.9507 - val_accuracy: 0.3757\n",
            "Epoch 29/30\n",
            "80/80 [==============================] - 3s 35ms/step - loss: 0.5437 - accuracy: 0.7545 - val_loss: 2.1338 - val_accuracy: 0.3803\n",
            "Epoch 30/30\n",
            "80/80 [==============================] - 3s 33ms/step - loss: 0.5261 - accuracy: 0.7718 - val_loss: 2.2015 - val_accuracy: 0.3647\n",
            "35/35 [==============================] - 0s 5ms/step - loss: 2.2015 - accuracy: 0.3647\n",
            "Test accuracy: 36.47%\n"
          ]
        }
      ],
      "source": [
        "history = model.fit(X_train, y_train, epochs=30, validation_data=(X_test, y_test), verbose=1)\n",
        "test_loss, test_accuracy = model.evaluate(X_test, y_test)\n",
        "print(f'Test accuracy: {test_accuracy * 100:.2f}%')"
      ]
    }
  ],
  "metadata": {
    "colab": {
      "authorship_tag": "ABX9TyPSAYXZaQSbjMRHFUBrR5pu",
      "include_colab_link": true,
      "mount_file_id": "1zhK0xnQ78ZVhakka6pCCtuZslZ5AZvMa",
      "provenance": []
    },
    "kernelspec": {
      "display_name": "Python 3",
      "name": "python3"
    },
    "language_info": {
      "codemirror_mode": {
        "name": "ipython",
        "version": 3
      },
      "file_extension": ".py",
      "mimetype": "text/x-python",
      "name": "python",
      "nbconvert_exporter": "python",
      "pygments_lexer": "ipython3",
      "version": "3.11.1"
    }
  },
  "nbformat": 4,
  "nbformat_minor": 0
}
